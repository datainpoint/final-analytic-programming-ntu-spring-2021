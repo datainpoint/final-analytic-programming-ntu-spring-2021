{
 "cells": [
  {
   "cell_type": "markdown",
   "metadata": {
    "deletable": false,
    "editable": false
   },
   "source": [
    "## Analytic Programming\n",
    "\n",
    "> Final: Analytic Programming, NTU, Spring, 2021.\n",
    "\n",
    "Kuo, Yao-Jen <yaojenkuo@ntu.edu.tw> from [DATAINPOINT](https://www.datainpoint.com)"
   ]
  },
  {
   "cell_type": "markdown",
   "metadata": {
    "deletable": false,
    "editable": false
   },
   "source": [
    "## Instructions\n",
    "\n",
    "- We've imported necessary modules/libraries at the beginning of each exercise.\n",
    "- We've put necessary files(if any) in the working directory of each exercise.\n",
    "- We've defined the names of functions/inputs/arguments for you.\n",
    "- Write down your solution between the comments `### BEGIN SOLUTION` and `### END SOLUTION`.\n",
    "- Running tests to see if your solutions are right: Kernel -> Restart & Run All -> Restart and Run All Cells.\n",
    "- You can run tests after each question or after finishing all questions.\n",
    "- REMEMBER to upload your `.ipynb` file to [CEIBA](https://ceiba.ntu.edu.tw/) before **2021-06-18 20:59:59** when you are done running tests."
   ]
  },
  {
   "cell_type": "code",
   "execution_count": 1,
   "metadata": {
    "deletable": false,
    "editable": false
   },
   "outputs": [],
   "source": [
    "import json\n",
    "import unittest\n",
    "import numpy as np\n",
    "import pandas as pd"
   ]
  },
  {
   "cell_type": "markdown",
   "metadata": {},
   "source": [
    "## 00. Define a function named `extract_season_standings` that is able to extract the standings of NBA in 2020-2021 regular season given `standings_all.json` as a pandas DataFrame.\n",
    "\n",
    "- Expected inputs: None.\n",
    "- Expected outputs: a (30, 7) DataFrame.\n",
    "\n",
    "```\n",
    "        teamId  homeWin  homeLoss  awayWin  awayLoss  win  loss\n",
    "0   1610612762       31         5       21        15   52    20\n",
    "1   1610612756       27         9       24        12   51    21\n",
    "2   1610612755       29         7       20        16   49    23\n",
    "3   1610612751       28         8       20        16   48    24\n",
    "4   1610612743       25        11       22        14   47    25\n",
    "5   1610612746       26        10       21        15   47    25\n",
    "6   1610612749       26        10       20        16   46    26\n",
    "7   1610612742       21        15       21        15   42    30\n",
    "8   1610612747       21        15       21        15   42    30\n",
    "9   1610612757       20        16       22        14   42    30\n",
    "10  1610612737       25        11       16        20   41    31\n",
    "11  1610612752       25        11       16        20   41    31\n",
    "12  1610612748       21        15       19        17   40    32\n",
    "13  1610612744       25        11       14        22   39    33\n",
    "14  1610612763       18        18       20        16   38    34\n",
    "15  1610612738       21        15       15        21   36    36\n",
    "16  1610612754       13        23       21        15   34    38\n",
    "17  1610612764       19        17       15        21   34    38\n",
    "18  1610612766       18        18       15        21   33    39\n",
    "19  1610612759       14        22       19        17   33    39\n",
    "20  1610612741       15        21       16        20   31    41\n",
    "21  1610612740       18        18       13        23   31    41\n",
    "22  1610612758       16        20       15        21   31    41\n",
    "23  1610612761       16        20       11        25   27    45\n",
    "24  1610612750       13        23       10        26   23    49\n",
    "25  1610612739       13        23        9        27   22    50\n",
    "26  1610612760       10        26       12        24   22    50\n",
    "27  1610612753       11        25       10        26   21    51\n",
    "28  1610612765       13        23        7        29   20    52\n",
    "29  1610612745        9        27        8        28   17    55\n",
    "```"
   ]
  },
  {
   "cell_type": "code",
   "execution_count": 2,
   "metadata": {},
   "outputs": [],
   "source": [
    "def extract_season_standings():\n",
    "    \"\"\"\n",
    "    >>> season_standings = extract_season_standings()\n",
    "    >>> type(season_standings)\n",
    "    pandas.core.frame.DataFrame\n",
    "    >>> season_standings.shape\n",
    "    (30, 7)\n",
    "    >>> (season_standings['win'] == season_standings['homeWin'] + season_standings['awayWin']).sum()\n",
    "    30\n",
    "    >>> (season_standings['loss'] == season_standings['homeLoss'] + season_standings['awayLoss']).sum()\n",
    "    30\n",
    "    \"\"\"\n",
    "    ### BEGIN SOLUTION\n",
    "    \n",
    "    ### END SOLUTION"
   ]
  },
  {
   "cell_type": "markdown",
   "metadata": {},
   "source": [
    "## 01. Define a function named `find_most_win_by_division` that is able to find the most win team for each division given `standings_all.json` and `teams.json` as a pandas DataFrame.\n",
    "\n",
    "- Expected inputs: None.\n",
    "- Expected outputs: a (6, 4) DataFrame.\n",
    "\n",
    "```\n",
    "  confName    divName            fullName  win\n",
    "0     East   Atlantic  Philadelphia 76ers   49\n",
    "1     East    Central     Milwaukee Bucks   46\n",
    "2     East  Southeast       Atlanta Hawks   41\n",
    "3     West  Northwest           Utah Jazz   52\n",
    "4     West    Pacific        Phoenix Suns   51\n",
    "5     West  Southwest    Dallas Mavericks   42\n",
    "```"
   ]
  },
  {
   "cell_type": "code",
   "execution_count": 3,
   "metadata": {},
   "outputs": [],
   "source": [
    "def find_most_win_by_division():\n",
    "    \"\"\"\n",
    "    >>> most_win_by_division = find_most_win_by_division()\n",
    "    >>> type(most_win_by_division)\n",
    "    pandas.core.frame.DataFrame\n",
    "    >>> most_win_by_division.shape\n",
    "    (6, 4)\n",
    "    >>> most_win_by_division['win'].max()\n",
    "    52\n",
    "    >>> most_win_by_division['win'].min()\n",
    "    41\n",
    "    \"\"\"\n",
    "    ### BEGIN SOLUTION\n",
    "    \n",
    "    ### END SOLUTION"
   ]
  },
  {
   "cell_type": "markdown",
   "metadata": {},
   "source": [
    "## 02. Define a function named `extract_nba_coaches` that is able to extract all coaches including head coaches and assistant coaches given `coaches.json` and `teams.json` as a pandas DataFrame.\n",
    "\n",
    "- Expected inputs: None.\n",
    "- Expected outputs: a (236, 4) DataFrame.\n",
    "\n",
    "```\n",
    "               fullName firstName   lastName  isAssistant\n",
    "0    Philadelphia 76ers       Doc     Rivers        False\n",
    "1    Philadelphia 76ers     David    Joerger         True\n",
    "2    Philadelphia 76ers       Sam    Cassell         True\n",
    "3    Philadelphia 76ers       Dan      Burke         True\n",
    "4    Philadelphia 76ers    Popeye      Jones         True\n",
    "..                  ...       ...        ...          ...\n",
    "231  Washington Wizards     David     Adkins         True\n",
    "232  Washington Wizards    Jarell  Christian         True\n",
    "233  Washington Wizards      Dean     Oliver         True\n",
    "234  Washington Wizards     Corey     Gaines         True\n",
    "235  Washington Wizards      Mike   Terpstra         True\n",
    "\n",
    "[236 rows x 4 columns]\n",
    "```"
   ]
  },
  {
   "cell_type": "code",
   "execution_count": 4,
   "metadata": {},
   "outputs": [],
   "source": [
    "def extract_nba_coaches():\n",
    "    \"\"\"\n",
    "    >>> nba_coaches = extract_nba_coaches()\n",
    "    >>> type(nba_coaches)\n",
    "    pandas.core.frame.DataFrame\n",
    "    >>> nba_coaches.shape\n",
    "    (236, 4)\n",
    "    >>> nba_coaches['fullName'].nunique()\n",
    "    30\n",
    "    >>> nba_coaches['isAssistant'].sum()\n",
    "    210\n",
    "    \"\"\"\n",
    "    ### BEGIN SOLUTION\n",
    "    \n",
    "    ### END SOLUTION"
   ]
  },
  {
   "cell_type": "markdown",
   "metadata": {},
   "source": [
    "## 03. Define a function named `calculate_confirmed_death_rate_by_countries` according to the following formula given `06-12-2021.csv` and `UID_ISO_FIPS_LookUp_Table.csv`.\n",
    "\n",
    "$$\n",
    "\\text{Death Rate} = \\frac{\\text{Deaths}}{\\text{Confirmed}} \\\\\n",
    "\\text{Confirmed Rate} = \\frac{\\text{Confirmed}}{\\text{Population}}\n",
    "$$\n",
    "\n",
    "- Expected inputs: None.\n",
    "- Expected outputs: a (193, 5) DataFrame.\n",
    "\n",
    "```\n",
    "                    Confirmed  Deaths  Population  Confirmed_Rate  Death_Rate\n",
    "Country_Region                                                               \n",
    "Afghanistan             88740    3449  38928341.0        0.002280    0.038866\n",
    "Albania                132449    2453   2877800.0        0.046024    0.018520\n",
    "Algeria                133070    3565  43851043.0        0.003035    0.026790\n",
    "Andorra                 13813     127     77265.0        0.178774    0.009194\n",
    "Angola                  36600     825  32866268.0        0.001114    0.022541\n",
    "...                       ...     ...         ...             ...         ...\n",
    "Vietnam                 10337      58  97338583.0        0.000106    0.005611\n",
    "West Bank and Gaza     311018    3524   5101416.0        0.060967    0.011331\n",
    "Yemen                    6857    1347  29825968.0        0.000230    0.196442\n",
    "Zambia                 110332    1365  18383956.0        0.006002    0.012372\n",
    "Zimbabwe                39852    1632  14862927.0        0.002681    0.040952\n",
    "\n",
    "[193 rows x 5 columns]\n",
    "```"
   ]
  },
  {
   "cell_type": "code",
   "execution_count": 5,
   "metadata": {},
   "outputs": [],
   "source": [
    "def calculate_confirmed_death_rate_by_countries():\n",
    "    \"\"\"\n",
    "    >>> confirmed_death_rate_by_countries = calculate_confirmed_death_rate_by_countries()\n",
    "    >>> type(confirmed_death_rate_by_countries)\n",
    "    pandas.core.frame.DataFrame\n",
    "    >>> confirmed_death_rate_by_countries.shape\n",
    "    (193, 5)\n",
    "    >>> print(confirmed_death_rate_by_countries.loc[['Taiwan*'], :])\n",
    "                    Confirmed  Deaths  Population  Confirmed_Rate  Death_Rate\n",
    "    Country_Region                                                           \n",
    "    Taiwan*             12746     411  23816775.0        0.000535    0.032245\n",
    "    \"\"\"\n",
    "    ### BEGIN SOLUTION\n",
    "    \n",
    "    ### END SOLUTION"
   ]
  },
  {
   "cell_type": "markdown",
   "metadata": {},
   "source": [
    "## 04. Define a function named `calculate_daily_cases_of_taiwan` that is able to calculate the daily cases of Taiwan a DataFrame as expected given `time_series_covid19_confirmed_global.csv` and `time_series_covid19_deaths_global.csv`.\n",
    "\n",
    "- Expected inputs: None.\n",
    "- Expected outputs: a (508, 5) DataFrame.\n",
    "\n",
    "```\n",
    "           Country/Region  Confirmed  Deaths  Daily_Confirmed  Daily_Deaths\n",
    "Date                                                                       \n",
    "2020-01-22        Taiwan*          1       0              NaN           NaN\n",
    "2020-01-23        Taiwan*          1       0              0.0           0.0\n",
    "2020-01-24        Taiwan*          3       0              2.0           0.0\n",
    "2020-01-25        Taiwan*          3       0              0.0           0.0\n",
    "2020-01-26        Taiwan*          4       0              1.0           0.0\n",
    "...                   ...        ...     ...              ...           ...\n",
    "2021-06-08        Taiwan*      11694     308            203.0          22.0\n",
    "2021-06-09        Taiwan*      11968     333            274.0          25.0\n",
    "2021-06-10        Taiwan*      12222     361            254.0          28.0\n",
    "2021-06-11        Taiwan*      12500     385            278.0          24.0\n",
    "2021-06-12        Taiwan*      12746     411            246.0          26.0\n",
    "\n",
    "[508 rows x 5 columns]\n",
    "```"
   ]
  },
  {
   "cell_type": "code",
   "execution_count": 6,
   "metadata": {},
   "outputs": [],
   "source": [
    "def calculate_daily_cases_of_taiwan():\n",
    "    \"\"\"\n",
    "    >>> daily_cases_of_taiwan = calculate_daily_cases_of_taiwan()\n",
    "    >>> type(daily_cases_of_taiwan)\n",
    "    pandas.core.frame.DataFrame\n",
    "    >>> daily_cases_of_taiwan.shape\n",
    "    (508, 5)\n",
    "    \"\"\"\n",
    "    ### BEGIN SOLUTION\n",
    "    \n",
    "    ### END SOLUTION"
   ]
  },
  {
   "cell_type": "markdown",
   "metadata": {
    "deletable": false,
    "editable": false
   },
   "source": [
    "## Run tests!\n",
    "\n",
    "Kernel -> Restart & Run All. -> Restart And Run All Cells."
   ]
  },
  {
   "cell_type": "code",
   "execution_count": 7,
   "metadata": {
    "deletable": false,
    "editable": false
   },
   "outputs": [
    {
     "name": "stderr",
     "output_type": "stream",
     "text": [
      "test_00_extract_season_standings (__main__.TestFinal) ... FAIL\n",
      "test_01_find_most_win_by_division (__main__.TestFinal) ... FAIL\n",
      "test_02_extract_nba_coaches (__main__.TestFinal) ... FAIL\n",
      "test_03_calculate_confirmed_death_rate_by_countries (__main__.TestFinal) ... FAIL\n",
      "test_04_calculate_daily_cases_of_taiwan (__main__.TestFinal) ... FAIL\n",
      "\n",
      "======================================================================\n",
      "FAIL: test_00_extract_season_standings (__main__.TestFinal)\n",
      "----------------------------------------------------------------------\n",
      "Traceback (most recent call last):\n",
      "  File \"<ipython-input-7-90ff24ff46cd>\", line 4, in test_00_extract_season_standings\n",
      "    self.assertIsInstance(season_standings, pd.core.frame.DataFrame)\n",
      "AssertionError: None is not an instance of <class 'pandas.core.frame.DataFrame'>\n",
      "\n",
      "======================================================================\n",
      "FAIL: test_01_find_most_win_by_division (__main__.TestFinal)\n",
      "----------------------------------------------------------------------\n",
      "Traceback (most recent call last):\n",
      "  File \"<ipython-input-7-90ff24ff46cd>\", line 10, in test_01_find_most_win_by_division\n",
      "    self.assertIsInstance(most_win_by_division, pd.core.frame.DataFrame)\n",
      "AssertionError: None is not an instance of <class 'pandas.core.frame.DataFrame'>\n",
      "\n",
      "======================================================================\n",
      "FAIL: test_02_extract_nba_coaches (__main__.TestFinal)\n",
      "----------------------------------------------------------------------\n",
      "Traceback (most recent call last):\n",
      "  File \"<ipython-input-7-90ff24ff46cd>\", line 16, in test_02_extract_nba_coaches\n",
      "    self.assertIsInstance(nba_coaches, pd.core.frame.DataFrame)\n",
      "AssertionError: None is not an instance of <class 'pandas.core.frame.DataFrame'>\n",
      "\n",
      "======================================================================\n",
      "FAIL: test_03_calculate_confirmed_death_rate_by_countries (__main__.TestFinal)\n",
      "----------------------------------------------------------------------\n",
      "Traceback (most recent call last):\n",
      "  File \"<ipython-input-7-90ff24ff46cd>\", line 22, in test_03_calculate_confirmed_death_rate_by_countries\n",
      "    self.assertIsInstance(confirmed_death_rate_by_countries, pd.core.frame.DataFrame)\n",
      "AssertionError: None is not an instance of <class 'pandas.core.frame.DataFrame'>\n",
      "\n",
      "======================================================================\n",
      "FAIL: test_04_calculate_daily_cases_of_taiwan (__main__.TestFinal)\n",
      "----------------------------------------------------------------------\n",
      "Traceback (most recent call last):\n",
      "  File \"<ipython-input-7-90ff24ff46cd>\", line 30, in test_04_calculate_daily_cases_of_taiwan\n",
      "    self.assertIsInstance(daily_cases_of_taiwan, pd.core.frame.DataFrame)\n",
      "AssertionError: None is not an instance of <class 'pandas.core.frame.DataFrame'>\n",
      "\n",
      "----------------------------------------------------------------------\n",
      "Ran 5 tests in 0.008s\n",
      "\n",
      "FAILED (failures=5)\n"
     ]
    }
   ],
   "source": [
    "class TestFinal(unittest.TestCase):\n",
    "    def test_00_extract_season_standings(self):\n",
    "        season_standings = extract_season_standings()\n",
    "        self.assertIsInstance(season_standings, pd.core.frame.DataFrame)\n",
    "        self.assertEqual(season_standings.shape, (30, 7))\n",
    "        self.assertEqual((season_standings['win'] == season_standings['homeWin'] + season_standings['awayWin']).sum(), 30)\n",
    "        self.assertEqual((season_standings['loss'] == season_standings['homeLoss'] + season_standings['awayLoss']).sum(), 30)\n",
    "    def test_01_find_most_win_by_division(self):\n",
    "        most_win_by_division = find_most_win_by_division()\n",
    "        self.assertIsInstance(most_win_by_division, pd.core.frame.DataFrame)\n",
    "        self.assertEqual(most_win_by_division.shape, (6, 4))\n",
    "        self.assertEqual(most_win_by_division['win'].max(), 52)\n",
    "        self.assertEqual(most_win_by_division['win'].min(), 41)\n",
    "    def test_02_extract_nba_coaches(self):\n",
    "        nba_coaches = extract_nba_coaches()\n",
    "        self.assertIsInstance(nba_coaches, pd.core.frame.DataFrame)\n",
    "        self.assertEqual(nba_coaches.shape, (236, 4))\n",
    "        self.assertEqual(nba_coaches['fullName'].nunique(), 30)\n",
    "        self.assertEqual(nba_coaches['isAssistant'].sum(), 210)\n",
    "    def test_03_calculate_confirmed_death_rate_by_countries(self):\n",
    "        confirmed_death_rate_by_countries = calculate_confirmed_death_rate_by_countries()\n",
    "        self.assertIsInstance(confirmed_death_rate_by_countries, pd.core.frame.DataFrame)\n",
    "        self.assertEqual(confirmed_death_rate_by_countries.shape, (193, 5))\n",
    "        tw = confirmed_death_rate_by_countries.loc[['Taiwan*'], :]\n",
    "        self.assertEqual(tw['Confirmed'].values[0], 12746)\n",
    "        self.assertEqual(tw['Deaths'].values[0], 411)\n",
    "        self.assertAlmostEqual(tw['Population'].values[0], 23816775.0)\n",
    "    def test_04_calculate_daily_cases_of_taiwan(self):\n",
    "        daily_cases_of_taiwan = calculate_daily_cases_of_taiwan()\n",
    "        self.assertIsInstance(daily_cases_of_taiwan, pd.core.frame.DataFrame)\n",
    "        self.assertEqual(daily_cases_of_taiwan.shape, (508, 5))\n",
    "        self.assertEqual(daily_cases_of_taiwan['Country/Region'].unique()[0], 'Taiwan*')\n",
    "        self.assertTrue(np.isnan(daily_cases_of_taiwan['Daily_Confirmed'].values[0]), True)\n",
    "        self.assertTrue(np.isnan(daily_cases_of_taiwan['Daily_Deaths'].values[0]), True)\n",
    "        self.assertAlmostEqual(daily_cases_of_taiwan['Daily_Confirmed'].values[-1], 246.0)\n",
    "        self.assertAlmostEqual(daily_cases_of_taiwan['Daily_Deaths'].values[-1], 26.0)\n",
    "\n",
    "suite = unittest.TestLoader().loadTestsFromTestCase(TestFinal)\n",
    "runner = unittest.TextTestRunner(verbosity=2)\n",
    "test_results = runner.run(suite)\n",
    "number_of_failures = len(test_results.failures)\n",
    "number_of_errors = len(test_results.errors)\n",
    "number_of_test_runs = test_results.testsRun\n",
    "number_of_successes = number_of_test_runs - (number_of_failures + number_of_errors)"
   ]
  },
  {
   "cell_type": "code",
   "execution_count": 8,
   "metadata": {
    "deletable": false,
    "editable": false
   },
   "outputs": [
    {
     "name": "stdout",
     "output_type": "stream",
     "text": [
      "You've got 0 points among 5 questions.\n"
     ]
    }
   ],
   "source": [
    "print(\"You've got {} points among {} questions.\".format(number_of_successes * 5, number_of_test_runs))"
   ]
  }
 ],
 "metadata": {
  "kernelspec": {
   "display_name": "Python Data Science",
   "language": "python",
   "name": "pyds"
  },
  "language_info": {
   "codemirror_mode": {
    "name": "ipython",
    "version": 3
   },
   "file_extension": ".py",
   "mimetype": "text/x-python",
   "name": "python",
   "nbconvert_exporter": "python",
   "pygments_lexer": "ipython3",
   "version": "3.8.10"
  }
 },
 "nbformat": 4,
 "nbformat_minor": 4
}
